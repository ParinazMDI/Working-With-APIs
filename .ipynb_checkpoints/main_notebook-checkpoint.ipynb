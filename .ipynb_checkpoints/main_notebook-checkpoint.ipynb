{
 "cells": [
  {
   "cell_type": "markdown",
   "metadata": {},
   "source": [
    "# Use this notebook for your 3 choices of APIs"
   ]
  },
  {
   "cell_type": "code",
   "execution_count": 11,
   "metadata": {},
   "outputs": [],
   "source": [
    "import requests\n",
    "import json\n",
    "import pandas as pd\n",
    "import numpy as np\n",
    "from pandas.io.json import json_normalize"
   ]
  },
  {
   "cell_type": "markdown",
   "metadata": {},
   "source": [
    "# https://openlibrary.org/"
   ]
  },
  {
   "cell_type": "code",
   "execution_count": 2,
   "metadata": {},
   "outputs": [
    {
     "name": "stdout",
     "output_type": "stream",
     "text": [
      " Library : 200\n"
     ]
    }
   ],
   "source": [
    "Library = requests.get(\"https://openlibrary.org/works/OL15626917W.json\")\n",
    "print(\" Library :\",  Library.status_code)"
   ]
  },
  {
   "cell_type": "code",
   "execution_count": 3,
   "metadata": {},
   "outputs": [
    {
     "name": "stdout",
     "output_type": "stream",
     "text": [
      "1639\n"
     ]
    },
    {
     "data": {
      "text/plain": [
       "{'created': {'type': '/type/datetime', 'value': '2011-01-06T22:26:11.401548'},\n",
       " 'subjects': ['Environmental aspects',\n",
       "  'Climatic changes',\n",
       "  'Environmental engineering',\n",
       "  'Global warming',\n",
       "  'Engineering geology'],\n",
       " 'latest_revision': 4,\n",
       " 'description': {'type': '/type/text',\n",
       "  'value': 'Climate discussions often focus on potential impacts over a long period of time—several decades, a century even. But change could also happen much more suddenly. What if we had a real climate emergency—how could we cool the planet in a hurry? This question has led a group of scientists to pursue extreme solutions: huge contraptions that would suck CO2 from the air, machines that brighten clouds and deflect sunlight away from the earth, even artificial volcanoes that spray heat-reflecting particles into the atmosphere. This is the radical and controversial world of geoengineering. How to Cool the Planet, Jeff Goodell explores the scientific, political, and moral aspects of geoengineering. How are we going to change the temperature of whole regions if we can’t even predict next week’s weather? What about wars waged with climate control as the primary weapon? There are certainly risks, but Goodell persuades us that geoengineering may be our last best hope, a Plan B for the environment. And if it is, we need to know enough to get it right.'},\n",
       " 'key': '/works/OL15626917W',\n",
       " 'title': 'How to cool the planet',\n",
       " 'authors': [{'type': {'key': '/type/author_role'},\n",
       "   'author': {'key': '/authors/OL33421A'}}],\n",
       " 'type': {'key': '/type/work'},\n",
       " 'last_modified': {'type': '/type/datetime',\n",
       "  'value': '2020-02-14T07:14:50.671748'},\n",
       " 'revision': 4}"
      ]
     },
     "execution_count": 3,
     "metadata": {},
     "output_type": "execute_result"
    }
   ],
   "source": [
    "Library.content\n",
    "print(len(Library.text))\n",
    "results = Library.json()  # convert to list of dic\n",
    "results"
   ]
  },
  {
   "cell_type": "code",
   "execution_count": 4,
   "metadata": {},
   "outputs": [
    {
     "name": "stderr",
     "output_type": "stream",
     "text": [
      "C:\\Users\\Parinaz\\AppData\\Local\\Temp\\ipykernel_12592\\4048331713.py:2: FutureWarning: pandas.io.json.json_normalize is deprecated, use pandas.json_normalize instead.\n",
      "  spdata = json_normalize(results)\n"
     ]
    }
   ],
   "source": [
    "from pandas.io.json import json_normalize\n",
    "spdata = json_normalize(results)"
   ]
  },
  {
   "cell_type": "code",
   "execution_count": 5,
   "metadata": {},
   "outputs": [
    {
     "data": {
      "text/html": [
       "<div>\n",
       "<style scoped>\n",
       "    .dataframe tbody tr th:only-of-type {\n",
       "        vertical-align: middle;\n",
       "    }\n",
       "\n",
       "    .dataframe tbody tr th {\n",
       "        vertical-align: top;\n",
       "    }\n",
       "\n",
       "    .dataframe thead th {\n",
       "        text-align: right;\n",
       "    }\n",
       "</style>\n",
       "<table border=\"1\" class=\"dataframe\">\n",
       "  <thead>\n",
       "    <tr style=\"text-align: right;\">\n",
       "      <th></th>\n",
       "      <th>subjects</th>\n",
       "      <th>latest_revision</th>\n",
       "      <th>key</th>\n",
       "      <th>title</th>\n",
       "      <th>authors</th>\n",
       "      <th>revision</th>\n",
       "      <th>created.type</th>\n",
       "      <th>created.value</th>\n",
       "      <th>description.type</th>\n",
       "      <th>description.value</th>\n",
       "      <th>type.key</th>\n",
       "      <th>last_modified.type</th>\n",
       "      <th>last_modified.value</th>\n",
       "    </tr>\n",
       "  </thead>\n",
       "  <tbody>\n",
       "    <tr>\n",
       "      <th>0</th>\n",
       "      <td>[Environmental aspects, Climatic changes, Envi...</td>\n",
       "      <td>4</td>\n",
       "      <td>/works/OL15626917W</td>\n",
       "      <td>How to cool the planet</td>\n",
       "      <td>[{'type': {'key': '/type/author_role'}, 'autho...</td>\n",
       "      <td>4</td>\n",
       "      <td>/type/datetime</td>\n",
       "      <td>2011-01-06T22:26:11.401548</td>\n",
       "      <td>/type/text</td>\n",
       "      <td>Climate discussions often focus on potential i...</td>\n",
       "      <td>/type/work</td>\n",
       "      <td>/type/datetime</td>\n",
       "      <td>2020-02-14T07:14:50.671748</td>\n",
       "    </tr>\n",
       "  </tbody>\n",
       "</table>\n",
       "</div>"
      ],
      "text/plain": [
       "                                            subjects  latest_revision  \\\n",
       "0  [Environmental aspects, Climatic changes, Envi...                4   \n",
       "\n",
       "                  key                   title  \\\n",
       "0  /works/OL15626917W  How to cool the planet   \n",
       "\n",
       "                                             authors  revision  \\\n",
       "0  [{'type': {'key': '/type/author_role'}, 'autho...         4   \n",
       "\n",
       "     created.type               created.value description.type  \\\n",
       "0  /type/datetime  2011-01-06T22:26:11.401548       /type/text   \n",
       "\n",
       "                                   description.value    type.key  \\\n",
       "0  Climate discussions often focus on potential i...  /type/work   \n",
       "\n",
       "  last_modified.type         last_modified.value  \n",
       "0     /type/datetime  2020-02-14T07:14:50.671748  "
      ]
     },
     "execution_count": 5,
     "metadata": {},
     "output_type": "execute_result"
    }
   ],
   "source": [
    "spdata"
   ]
  },
  {
   "cell_type": "code",
   "execution_count": 6,
   "metadata": {},
   "outputs": [
    {
     "data": {
      "text/html": [
       "<div>\n",
       "<style scoped>\n",
       "    .dataframe tbody tr th:only-of-type {\n",
       "        vertical-align: middle;\n",
       "    }\n",
       "\n",
       "    .dataframe tbody tr th {\n",
       "        vertical-align: top;\n",
       "    }\n",
       "\n",
       "    .dataframe thead th {\n",
       "        text-align: right;\n",
       "    }\n",
       "</style>\n",
       "<table border=\"1\" class=\"dataframe\">\n",
       "  <thead>\n",
       "    <tr style=\"text-align: right;\">\n",
       "      <th></th>\n",
       "      <th>subjects</th>\n",
       "      <th>latest_revision</th>\n",
       "      <th>key</th>\n",
       "      <th>title</th>\n",
       "      <th>authors</th>\n",
       "      <th>revision</th>\n",
       "      <th>created.type</th>\n",
       "      <th>created.value</th>\n",
       "      <th>description.type</th>\n",
       "      <th>description.value</th>\n",
       "      <th>type.key</th>\n",
       "      <th>last_modified.type</th>\n",
       "      <th>last_modified.value</th>\n",
       "    </tr>\n",
       "  </thead>\n",
       "  <tbody>\n",
       "    <tr>\n",
       "      <th>0</th>\n",
       "      <td>[Environmental aspects, Climatic changes, Envi...</td>\n",
       "      <td>4</td>\n",
       "      <td>/works/OL15626917W</td>\n",
       "      <td>How to cool the planet</td>\n",
       "      <td>[{'type': {'key': '/type/author_role'}, 'autho...</td>\n",
       "      <td>4</td>\n",
       "      <td>/type/datetime</td>\n",
       "      <td>2011-01-06T22:26:11.401548</td>\n",
       "      <td>/type/text</td>\n",
       "      <td>Climate discussions often focus on potential i...</td>\n",
       "      <td>/type/work</td>\n",
       "      <td>/type/datetime</td>\n",
       "      <td>2020-02-14T07:14:50.671748</td>\n",
       "    </tr>\n",
       "  </tbody>\n",
       "</table>\n",
       "</div>"
      ],
      "text/plain": [
       "                                            subjects  latest_revision  \\\n",
       "0  [Environmental aspects, Climatic changes, Envi...                4   \n",
       "\n",
       "                  key                   title  \\\n",
       "0  /works/OL15626917W  How to cool the planet   \n",
       "\n",
       "                                             authors  revision  \\\n",
       "0  [{'type': {'key': '/type/author_role'}, 'autho...         4   \n",
       "\n",
       "     created.type               created.value description.type  \\\n",
       "0  /type/datetime  2011-01-06T22:26:11.401548       /type/text   \n",
       "\n",
       "                                   description.value    type.key  \\\n",
       "0  Climate discussions often focus on potential i...  /type/work   \n",
       "\n",
       "  last_modified.type         last_modified.value  \n",
       "0     /type/datetime  2020-02-14T07:14:50.671748  "
      ]
     },
     "execution_count": 6,
     "metadata": {},
     "output_type": "execute_result"
    }
   ],
   "source": [
    "df = pd.DataFrame(spdata)\n",
    "df"
   ]
  },
  {
   "cell_type": "code",
   "execution_count": 7,
   "metadata": {},
   "outputs": [
    {
     "data": {
      "text/plain": [
       "(1, 13)"
      ]
     },
     "execution_count": 7,
     "metadata": {},
     "output_type": "execute_result"
    }
   ],
   "source": [
    "spdata.shape"
   ]
  },
  {
   "cell_type": "code",
   "execution_count": null,
   "metadata": {},
   "outputs": [],
   "source": [
    "# recipes= requests.get(\"https://api.spoonacular.com/recipes/complexSearch\")\n",
    "# print(\" recipes :\", recipes.status_code)"
   ]
  },
  {
   "cell_type": "code",
   "execution_count": null,
   "metadata": {},
   "outputs": [],
   "source": [
    "# 24fc7cac-9b26-4918-a161-7aebd00f429b"
   ]
  },
  {
   "cell_type": "code",
   "execution_count": null,
   "metadata": {},
   "outputs": [],
   "source": [
    "#apikey=24fc7cac-9b26-4918-a161-7aebd00f429b#"
   ]
  },
  {
   "cell_type": "code",
   "execution_count": null,
   "metadata": {},
   "outputs": [],
   "source": [
    "#apikey = getpass.getpass()#"
   ]
  },
  {
   "cell_type": "code",
   "execution_count": null,
   "metadata": {},
   "outputs": [],
   "source": [
    "# bitcoin_mainnet = requests.get(f\"https://btc.api.watchdata.io/node/jsonrpc?api_key={}\")"
   ]
  },
  {
   "cell_type": "code",
   "execution_count": null,
   "metadata": {},
   "outputs": [],
   "source": [
    "# results = bitcoin_mainnet.json()  \n",
    "# results\n"
   ]
  },
  {
   "cell_type": "markdown",
   "metadata": {},
   "source": [
    "# https://holidayapi.com/docs"
   ]
  },
  {
   "cell_type": "code",
   "execution_count": 1,
   "metadata": {},
   "outputs": [],
   "source": [
    "import getpass\n"
   ]
  },
  {
   "cell_type": "code",
   "execution_count": 5,
   "metadata": {},
   "outputs": [
    {
     "name": "stdout",
     "output_type": "stream",
     "text": [
      "········\n"
     ]
    }
   ],
   "source": [
    "apikey = getpass.getpass()    #It was working!!!! I don't know why it died!\n",
    "#8b12e552-8767-4938-8653-ce5feeee95de"
   ]
  },
  {
   "cell_type": "code",
   "execution_count": 8,
   "metadata": {},
   "outputs": [],
   "source": [
    "holiday = requests.get(f\"https://holidayapi.com/v1/holidays?pretty&key={apikey}&country=NL&year=2022\")"
   ]
  },
  {
   "cell_type": "code",
   "execution_count": 9,
   "metadata": {},
   "outputs": [
    {
     "data": {
      "text/plain": [
       "{'status': 200,\n",
       " 'warning': 'These results do not include state and province holidays. For more information, please visit https://holidayapi.com/docs',\n",
       " 'requests': {'used': 3, 'available': 9997, 'resets': '2023-12-01 00:00:00'},\n",
       " 'holidays': [{'name': \"New Year's Day\",\n",
       "   'date': '2022-01-01',\n",
       "   'observed': '2022-01-01',\n",
       "   'public': True,\n",
       "   'country': 'NL',\n",
       "   'uuid': '02b782ca-15a6-4ba3-b647-e2abbcb1c5d6',\n",
       "   'weekday': {'date': {'name': 'Saturday', 'numeric': '6'},\n",
       "    'observed': {'name': 'Saturday', 'numeric': '6'}}},\n",
       "  {'name': 'March Equinox',\n",
       "   'date': '2022-03-20',\n",
       "   'observed': '2022-03-20',\n",
       "   'public': False,\n",
       "   'country': 'NL',\n",
       "   'uuid': '4576f8ec-f82c-4122-8275-73f7c6ae41e4',\n",
       "   'weekday': {'date': {'name': 'Sunday', 'numeric': '7'},\n",
       "    'observed': {'name': 'Sunday', 'numeric': '7'}}},\n",
       "  {'name': 'Good Friday',\n",
       "   'date': '2022-04-15',\n",
       "   'observed': '2022-04-15',\n",
       "   'public': True,\n",
       "   'country': 'NL',\n",
       "   'uuid': '99c05e62-5dfe-445a-9383-3fdf473e1356',\n",
       "   'weekday': {'date': {'name': 'Friday', 'numeric': '5'},\n",
       "    'observed': {'name': 'Friday', 'numeric': '5'}}},\n",
       "  {'name': 'Easter',\n",
       "   'date': '2022-04-17',\n",
       "   'observed': '2022-04-17',\n",
       "   'public': True,\n",
       "   'country': 'NL',\n",
       "   'uuid': '206d71bc-0501-4608-933b-3f5c1ee3d20d',\n",
       "   'weekday': {'date': {'name': 'Sunday', 'numeric': '7'},\n",
       "    'observed': {'name': 'Sunday', 'numeric': '7'}}},\n",
       "  {'name': 'Easter Monday',\n",
       "   'date': '2022-04-18',\n",
       "   'observed': '2022-04-18',\n",
       "   'public': True,\n",
       "   'country': 'NL',\n",
       "   'uuid': '20816196-42dc-447c-b02f-3071e9296280',\n",
       "   'weekday': {'date': {'name': 'Monday', 'numeric': '1'},\n",
       "    'observed': {'name': 'Monday', 'numeric': '1'}}},\n",
       "  {'name': 'Royal Day',\n",
       "   'date': '2022-04-27',\n",
       "   'observed': '2022-04-27',\n",
       "   'public': True,\n",
       "   'country': 'NL',\n",
       "   'uuid': 'e76d4908-0169-4920-a70b-a5fe0aaed06a',\n",
       "   'weekday': {'date': {'name': 'Wednesday', 'numeric': '3'},\n",
       "    'observed': {'name': 'Wednesday', 'numeric': '3'}}},\n",
       "  {'name': 'Commemoration of the Dead',\n",
       "   'date': '2022-05-04',\n",
       "   'observed': '2022-05-04',\n",
       "   'public': False,\n",
       "   'country': 'NL',\n",
       "   'uuid': 'e7caec4c-3474-4349-970f-49890ea1e6d2',\n",
       "   'weekday': {'date': {'name': 'Wednesday', 'numeric': '3'},\n",
       "    'observed': {'name': 'Wednesday', 'numeric': '3'}}},\n",
       "  {'name': 'Liberation Day',\n",
       "   'date': '2022-05-05',\n",
       "   'observed': '2022-05-05',\n",
       "   'public': True,\n",
       "   'country': 'NL',\n",
       "   'uuid': 'f41586f2-362e-4e9e-80f9-28a815990995',\n",
       "   'weekday': {'date': {'name': 'Thursday', 'numeric': '4'},\n",
       "    'observed': {'name': 'Thursday', 'numeric': '4'}}},\n",
       "  {'name': \"Mother's Day\",\n",
       "   'date': '2022-05-08',\n",
       "   'observed': '2022-05-08',\n",
       "   'public': False,\n",
       "   'country': 'NL',\n",
       "   'uuid': '7b8e5dca-fecb-4813-8bd8-c52d3f9b9673',\n",
       "   'weekday': {'date': {'name': 'Sunday', 'numeric': '7'},\n",
       "    'observed': {'name': 'Sunday', 'numeric': '7'}}},\n",
       "  {'name': 'Feast of the Ascension of Jesus Christ',\n",
       "   'date': '2022-05-26',\n",
       "   'observed': '2022-05-26',\n",
       "   'public': True,\n",
       "   'country': 'NL',\n",
       "   'uuid': '1446ceeb-c3c7-438d-9f30-9dd20e33cd85',\n",
       "   'weekday': {'date': {'name': 'Thursday', 'numeric': '4'},\n",
       "    'observed': {'name': 'Thursday', 'numeric': '4'}}},\n",
       "  {'name': 'Pentecost',\n",
       "   'date': '2022-06-05',\n",
       "   'observed': '2022-06-05',\n",
       "   'public': True,\n",
       "   'country': 'NL',\n",
       "   'uuid': '2e0cb95d-2f33-422f-afe5-870738920729',\n",
       "   'weekday': {'date': {'name': 'Sunday', 'numeric': '7'},\n",
       "    'observed': {'name': 'Sunday', 'numeric': '7'}}},\n",
       "  {'name': 'Pentecost Monday',\n",
       "   'date': '2022-06-06',\n",
       "   'observed': '2022-06-06',\n",
       "   'public': True,\n",
       "   'country': 'NL',\n",
       "   'uuid': '3edf8a91-f7f9-47bf-8969-ffc5397bbd02',\n",
       "   'weekday': {'date': {'name': 'Monday', 'numeric': '1'},\n",
       "    'observed': {'name': 'Monday', 'numeric': '1'}}},\n",
       "  {'name': \"Father's Day\",\n",
       "   'date': '2022-06-19',\n",
       "   'observed': '2022-06-19',\n",
       "   'public': False,\n",
       "   'country': 'NL',\n",
       "   'uuid': 'c936c641-d865-49c4-a115-30b7575c354e',\n",
       "   'weekday': {'date': {'name': 'Sunday', 'numeric': '7'},\n",
       "    'observed': {'name': 'Sunday', 'numeric': '7'}}},\n",
       "  {'name': 'June Solstice',\n",
       "   'date': '2022-06-21',\n",
       "   'observed': '2022-06-21',\n",
       "   'public': False,\n",
       "   'country': 'NL',\n",
       "   'uuid': '1efb403e-1333-437c-932e-1ba6edf5a780',\n",
       "   'weekday': {'date': {'name': 'Tuesday', 'numeric': '2'},\n",
       "    'observed': {'name': 'Tuesday', 'numeric': '2'}}},\n",
       "  {'name': 'September Equinox',\n",
       "   'date': '2022-09-23',\n",
       "   'observed': '2022-09-23',\n",
       "   'public': False,\n",
       "   'country': 'NL',\n",
       "   'uuid': '71eb54b5-06c6-4aa7-86d3-1506a8fa7e46',\n",
       "   'weekday': {'date': {'name': 'Friday', 'numeric': '5'},\n",
       "    'observed': {'name': 'Friday', 'numeric': '5'}}},\n",
       "  {'name': \"Saint Nicholas' Eve\",\n",
       "   'date': '2022-12-05',\n",
       "   'observed': '2022-12-05',\n",
       "   'public': False,\n",
       "   'country': 'NL',\n",
       "   'uuid': '32601bc4-0811-4b7b-ad86-a79846861998',\n",
       "   'weekday': {'date': {'name': 'Monday', 'numeric': '1'},\n",
       "    'observed': {'name': 'Monday', 'numeric': '1'}}},\n",
       "  {'name': \"Saint Nicholas' Day\",\n",
       "   'date': '2022-12-06',\n",
       "   'observed': '2022-12-06',\n",
       "   'public': False,\n",
       "   'country': 'NL',\n",
       "   'uuid': '011dea38-047d-4336-898e-a6208c16ebb7',\n",
       "   'weekday': {'date': {'name': 'Tuesday', 'numeric': '2'},\n",
       "    'observed': {'name': 'Tuesday', 'numeric': '2'}}},\n",
       "  {'name': 'December Solstice',\n",
       "   'date': '2022-12-21',\n",
       "   'observed': '2022-12-21',\n",
       "   'public': False,\n",
       "   'country': 'NL',\n",
       "   'uuid': 'af8288c3-3272-48ed-9514-6388d8e43ae8',\n",
       "   'weekday': {'date': {'name': 'Wednesday', 'numeric': '3'},\n",
       "    'observed': {'name': 'Wednesday', 'numeric': '3'}}},\n",
       "  {'name': 'Christmas Eve',\n",
       "   'date': '2022-12-24',\n",
       "   'observed': '2022-12-24',\n",
       "   'public': False,\n",
       "   'country': 'NL',\n",
       "   'uuid': 'e3bd0410-4ce5-4b8e-9527-57a0d32ab0b2',\n",
       "   'weekday': {'date': {'name': 'Saturday', 'numeric': '6'},\n",
       "    'observed': {'name': 'Saturday', 'numeric': '6'}}},\n",
       "  {'name': 'Christmas Day',\n",
       "   'date': '2022-12-25',\n",
       "   'observed': '2022-12-25',\n",
       "   'public': True,\n",
       "   'country': 'NL',\n",
       "   'uuid': '36c875bc-ac7c-4426-bc56-c7e9f663fb2f',\n",
       "   'weekday': {'date': {'name': 'Sunday', 'numeric': '7'},\n",
       "    'observed': {'name': 'Sunday', 'numeric': '7'}}},\n",
       "  {'name': 'Boxing Day',\n",
       "   'date': '2022-12-26',\n",
       "   'observed': '2022-12-26',\n",
       "   'public': True,\n",
       "   'country': 'NL',\n",
       "   'uuid': '03fdd6c3-e145-487d-a252-3e86db00e970',\n",
       "   'weekday': {'date': {'name': 'Monday', 'numeric': '1'},\n",
       "    'observed': {'name': 'Monday', 'numeric': '1'}}},\n",
       "  {'name': \"New Year's Eve\",\n",
       "   'date': '2022-12-31',\n",
       "   'observed': '2022-12-31',\n",
       "   'public': False,\n",
       "   'country': 'NL',\n",
       "   'uuid': '227eeaf5-66e8-4e8a-aad8-b4c02b84bd35',\n",
       "   'weekday': {'date': {'name': 'Saturday', 'numeric': '6'},\n",
       "    'observed': {'name': 'Saturday', 'numeric': '6'}}}]}"
      ]
     },
     "execution_count": 9,
     "metadata": {},
     "output_type": "execute_result"
    }
   ],
   "source": [
    "results = holiday.json()\n",
    "results"
   ]
  },
  {
   "cell_type": "code",
   "execution_count": 12,
   "metadata": {},
   "outputs": [
    {
     "name": "stderr",
     "output_type": "stream",
     "text": [
      "C:\\Users\\Parinaz\\AppData\\Local\\Temp\\ipykernel_6692\\2814208397.py:1: FutureWarning: pandas.io.json.json_normalize is deprecated, use pandas.json_normalize instead.\n",
      "  data = json_normalize(results)\n"
     ]
    },
    {
     "data": {
      "text/html": [
       "<div>\n",
       "<style scoped>\n",
       "    .dataframe tbody tr th:only-of-type {\n",
       "        vertical-align: middle;\n",
       "    }\n",
       "\n",
       "    .dataframe tbody tr th {\n",
       "        vertical-align: top;\n",
       "    }\n",
       "\n",
       "    .dataframe thead th {\n",
       "        text-align: right;\n",
       "    }\n",
       "</style>\n",
       "<table border=\"1\" class=\"dataframe\">\n",
       "  <thead>\n",
       "    <tr style=\"text-align: right;\">\n",
       "      <th></th>\n",
       "      <th>status</th>\n",
       "      <th>warning</th>\n",
       "      <th>holidays</th>\n",
       "      <th>requests.used</th>\n",
       "      <th>requests.available</th>\n",
       "      <th>requests.resets</th>\n",
       "    </tr>\n",
       "  </thead>\n",
       "  <tbody>\n",
       "    <tr>\n",
       "      <th>0</th>\n",
       "      <td>200</td>\n",
       "      <td>These results do not include state and provinc...</td>\n",
       "      <td>[{'name': 'New Year's Day', 'date': '2022-01-0...</td>\n",
       "      <td>3</td>\n",
       "      <td>9997</td>\n",
       "      <td>2023-12-01 00:00:00</td>\n",
       "    </tr>\n",
       "  </tbody>\n",
       "</table>\n",
       "</div>"
      ],
      "text/plain": [
       "   status                                            warning  \\\n",
       "0     200  These results do not include state and provinc...   \n",
       "\n",
       "                                            holidays  requests.used  \\\n",
       "0  [{'name': 'New Year's Day', 'date': '2022-01-0...              3   \n",
       "\n",
       "   requests.available      requests.resets  \n",
       "0                9997  2023-12-01 00:00:00  "
      ]
     },
     "execution_count": 12,
     "metadata": {},
     "output_type": "execute_result"
    }
   ],
   "source": [
    "data = json_normalize(results)\n",
    "df = pd.DataFrame(data)\n",
    "df"
   ]
  },
  {
   "cell_type": "code",
   "execution_count": 21,
   "metadata": {},
   "outputs": [
    {
     "data": {
      "text/plain": [
       "[{'name': \"New Year's Day\",\n",
       "  'date': '2022-01-01',\n",
       "  'observed': '2022-01-01',\n",
       "  'public': True,\n",
       "  'country': 'NL',\n",
       "  'uuid': '02b782ca-15a6-4ba3-b647-e2abbcb1c5d6',\n",
       "  'weekday': {'date': {'name': 'Saturday', 'numeric': '6'},\n",
       "   'observed': {'name': 'Saturday', 'numeric': '6'}}},\n",
       " {'name': 'March Equinox',\n",
       "  'date': '2022-03-20',\n",
       "  'observed': '2022-03-20',\n",
       "  'public': False,\n",
       "  'country': 'NL',\n",
       "  'uuid': '4576f8ec-f82c-4122-8275-73f7c6ae41e4',\n",
       "  'weekday': {'date': {'name': 'Sunday', 'numeric': '7'},\n",
       "   'observed': {'name': 'Sunday', 'numeric': '7'}}},\n",
       " {'name': 'Good Friday',\n",
       "  'date': '2022-04-15',\n",
       "  'observed': '2022-04-15',\n",
       "  'public': True,\n",
       "  'country': 'NL',\n",
       "  'uuid': '99c05e62-5dfe-445a-9383-3fdf473e1356',\n",
       "  'weekday': {'date': {'name': 'Friday', 'numeric': '5'},\n",
       "   'observed': {'name': 'Friday', 'numeric': '5'}}},\n",
       " {'name': 'Easter',\n",
       "  'date': '2022-04-17',\n",
       "  'observed': '2022-04-17',\n",
       "  'public': True,\n",
       "  'country': 'NL',\n",
       "  'uuid': '206d71bc-0501-4608-933b-3f5c1ee3d20d',\n",
       "  'weekday': {'date': {'name': 'Sunday', 'numeric': '7'},\n",
       "   'observed': {'name': 'Sunday', 'numeric': '7'}}},\n",
       " {'name': 'Easter Monday',\n",
       "  'date': '2022-04-18',\n",
       "  'observed': '2022-04-18',\n",
       "  'public': True,\n",
       "  'country': 'NL',\n",
       "  'uuid': '20816196-42dc-447c-b02f-3071e9296280',\n",
       "  'weekday': {'date': {'name': 'Monday', 'numeric': '1'},\n",
       "   'observed': {'name': 'Monday', 'numeric': '1'}}},\n",
       " {'name': 'Royal Day',\n",
       "  'date': '2022-04-27',\n",
       "  'observed': '2022-04-27',\n",
       "  'public': True,\n",
       "  'country': 'NL',\n",
       "  'uuid': 'e76d4908-0169-4920-a70b-a5fe0aaed06a',\n",
       "  'weekday': {'date': {'name': 'Wednesday', 'numeric': '3'},\n",
       "   'observed': {'name': 'Wednesday', 'numeric': '3'}}},\n",
       " {'name': 'Commemoration of the Dead',\n",
       "  'date': '2022-05-04',\n",
       "  'observed': '2022-05-04',\n",
       "  'public': False,\n",
       "  'country': 'NL',\n",
       "  'uuid': 'e7caec4c-3474-4349-970f-49890ea1e6d2',\n",
       "  'weekday': {'date': {'name': 'Wednesday', 'numeric': '3'},\n",
       "   'observed': {'name': 'Wednesday', 'numeric': '3'}}},\n",
       " {'name': 'Liberation Day',\n",
       "  'date': '2022-05-05',\n",
       "  'observed': '2022-05-05',\n",
       "  'public': True,\n",
       "  'country': 'NL',\n",
       "  'uuid': 'f41586f2-362e-4e9e-80f9-28a815990995',\n",
       "  'weekday': {'date': {'name': 'Thursday', 'numeric': '4'},\n",
       "   'observed': {'name': 'Thursday', 'numeric': '4'}}},\n",
       " {'name': \"Mother's Day\",\n",
       "  'date': '2022-05-08',\n",
       "  'observed': '2022-05-08',\n",
       "  'public': False,\n",
       "  'country': 'NL',\n",
       "  'uuid': '7b8e5dca-fecb-4813-8bd8-c52d3f9b9673',\n",
       "  'weekday': {'date': {'name': 'Sunday', 'numeric': '7'},\n",
       "   'observed': {'name': 'Sunday', 'numeric': '7'}}},\n",
       " {'name': 'Feast of the Ascension of Jesus Christ',\n",
       "  'date': '2022-05-26',\n",
       "  'observed': '2022-05-26',\n",
       "  'public': True,\n",
       "  'country': 'NL',\n",
       "  'uuid': '1446ceeb-c3c7-438d-9f30-9dd20e33cd85',\n",
       "  'weekday': {'date': {'name': 'Thursday', 'numeric': '4'},\n",
       "   'observed': {'name': 'Thursday', 'numeric': '4'}}},\n",
       " {'name': 'Pentecost',\n",
       "  'date': '2022-06-05',\n",
       "  'observed': '2022-06-05',\n",
       "  'public': True,\n",
       "  'country': 'NL',\n",
       "  'uuid': '2e0cb95d-2f33-422f-afe5-870738920729',\n",
       "  'weekday': {'date': {'name': 'Sunday', 'numeric': '7'},\n",
       "   'observed': {'name': 'Sunday', 'numeric': '7'}}},\n",
       " {'name': 'Pentecost Monday',\n",
       "  'date': '2022-06-06',\n",
       "  'observed': '2022-06-06',\n",
       "  'public': True,\n",
       "  'country': 'NL',\n",
       "  'uuid': '3edf8a91-f7f9-47bf-8969-ffc5397bbd02',\n",
       "  'weekday': {'date': {'name': 'Monday', 'numeric': '1'},\n",
       "   'observed': {'name': 'Monday', 'numeric': '1'}}},\n",
       " {'name': \"Father's Day\",\n",
       "  'date': '2022-06-19',\n",
       "  'observed': '2022-06-19',\n",
       "  'public': False,\n",
       "  'country': 'NL',\n",
       "  'uuid': 'c936c641-d865-49c4-a115-30b7575c354e',\n",
       "  'weekday': {'date': {'name': 'Sunday', 'numeric': '7'},\n",
       "   'observed': {'name': 'Sunday', 'numeric': '7'}}},\n",
       " {'name': 'June Solstice',\n",
       "  'date': '2022-06-21',\n",
       "  'observed': '2022-06-21',\n",
       "  'public': False,\n",
       "  'country': 'NL',\n",
       "  'uuid': '1efb403e-1333-437c-932e-1ba6edf5a780',\n",
       "  'weekday': {'date': {'name': 'Tuesday', 'numeric': '2'},\n",
       "   'observed': {'name': 'Tuesday', 'numeric': '2'}}},\n",
       " {'name': 'September Equinox',\n",
       "  'date': '2022-09-23',\n",
       "  'observed': '2022-09-23',\n",
       "  'public': False,\n",
       "  'country': 'NL',\n",
       "  'uuid': '71eb54b5-06c6-4aa7-86d3-1506a8fa7e46',\n",
       "  'weekday': {'date': {'name': 'Friday', 'numeric': '5'},\n",
       "   'observed': {'name': 'Friday', 'numeric': '5'}}},\n",
       " {'name': \"Saint Nicholas' Eve\",\n",
       "  'date': '2022-12-05',\n",
       "  'observed': '2022-12-05',\n",
       "  'public': False,\n",
       "  'country': 'NL',\n",
       "  'uuid': '32601bc4-0811-4b7b-ad86-a79846861998',\n",
       "  'weekday': {'date': {'name': 'Monday', 'numeric': '1'},\n",
       "   'observed': {'name': 'Monday', 'numeric': '1'}}},\n",
       " {'name': \"Saint Nicholas' Day\",\n",
       "  'date': '2022-12-06',\n",
       "  'observed': '2022-12-06',\n",
       "  'public': False,\n",
       "  'country': 'NL',\n",
       "  'uuid': '011dea38-047d-4336-898e-a6208c16ebb7',\n",
       "  'weekday': {'date': {'name': 'Tuesday', 'numeric': '2'},\n",
       "   'observed': {'name': 'Tuesday', 'numeric': '2'}}},\n",
       " {'name': 'December Solstice',\n",
       "  'date': '2022-12-21',\n",
       "  'observed': '2022-12-21',\n",
       "  'public': False,\n",
       "  'country': 'NL',\n",
       "  'uuid': 'af8288c3-3272-48ed-9514-6388d8e43ae8',\n",
       "  'weekday': {'date': {'name': 'Wednesday', 'numeric': '3'},\n",
       "   'observed': {'name': 'Wednesday', 'numeric': '3'}}},\n",
       " {'name': 'Christmas Eve',\n",
       "  'date': '2022-12-24',\n",
       "  'observed': '2022-12-24',\n",
       "  'public': False,\n",
       "  'country': 'NL',\n",
       "  'uuid': 'e3bd0410-4ce5-4b8e-9527-57a0d32ab0b2',\n",
       "  'weekday': {'date': {'name': 'Saturday', 'numeric': '6'},\n",
       "   'observed': {'name': 'Saturday', 'numeric': '6'}}},\n",
       " {'name': 'Christmas Day',\n",
       "  'date': '2022-12-25',\n",
       "  'observed': '2022-12-25',\n",
       "  'public': True,\n",
       "  'country': 'NL',\n",
       "  'uuid': '36c875bc-ac7c-4426-bc56-c7e9f663fb2f',\n",
       "  'weekday': {'date': {'name': 'Sunday', 'numeric': '7'},\n",
       "   'observed': {'name': 'Sunday', 'numeric': '7'}}},\n",
       " {'name': 'Boxing Day',\n",
       "  'date': '2022-12-26',\n",
       "  'observed': '2022-12-26',\n",
       "  'public': True,\n",
       "  'country': 'NL',\n",
       "  'uuid': '03fdd6c3-e145-487d-a252-3e86db00e970',\n",
       "  'weekday': {'date': {'name': 'Monday', 'numeric': '1'},\n",
       "   'observed': {'name': 'Monday', 'numeric': '1'}}},\n",
       " {'name': \"New Year's Eve\",\n",
       "  'date': '2022-12-31',\n",
       "  'observed': '2022-12-31',\n",
       "  'public': False,\n",
       "  'country': 'NL',\n",
       "  'uuid': '227eeaf5-66e8-4e8a-aad8-b4c02b84bd35',\n",
       "  'weekday': {'date': {'name': 'Saturday', 'numeric': '6'},\n",
       "   'observed': {'name': 'Saturday', 'numeric': '6'}}}]"
      ]
     },
     "execution_count": 21,
     "metadata": {},
     "output_type": "execute_result"
    }
   ],
   "source": [
    "df[\"holidays\"][0]"
   ]
  },
  {
   "cell_type": "code",
   "execution_count": null,
   "metadata": {},
   "outputs": [],
   "source": [
    "# import pandas as pd\n",
    "# import requests\n",
    "# import getpass\n",
    "# apikey = getpass.getpass()\n",
    "# res = requests.get('')\n",
    "# print(\" res :\",  res.status_code)\n",
    "# results = res.json()\n",
    "# spdata = json_normalize(results)\n",
    "# df = pd.DataFrame(spdata)\n",
    "# df"
   ]
  },
  {
   "cell_type": "markdown",
   "metadata": {},
   "source": [
    "# http://dog-api.kinduff.com"
   ]
  },
  {
   "cell_type": "code",
   "execution_count": 10,
   "metadata": {},
   "outputs": [
    {
     "name": "stdout",
     "output_type": "stream",
     "text": [
      " dog : 200\n"
     ]
    }
   ],
   "source": [
    "dog=requests.get('http://dog-api.kinduff.com/api/facts?number=5')\n",
    "print(\" dog :\",  dog.status_code)"
   ]
  },
  {
   "cell_type": "code",
   "execution_count": 11,
   "metadata": {},
   "outputs": [
    {
     "name": "stderr",
     "output_type": "stream",
     "text": [
      "C:\\Users\\Parinaz\\AppData\\Local\\Temp\\ipykernel_12592\\140776659.py:2: FutureWarning: pandas.io.json.json_normalize is deprecated, use pandas.json_normalize instead.\n",
      "  data=spdata = json_normalize(results)\n"
     ]
    }
   ],
   "source": [
    "results = dog.json()\n",
    "data=spdata = json_normalize(results)"
   ]
  },
  {
   "cell_type": "code",
   "execution_count": 12,
   "metadata": {},
   "outputs": [
    {
     "data": {
      "text/html": [
       "<div>\n",
       "<style scoped>\n",
       "    .dataframe tbody tr th:only-of-type {\n",
       "        vertical-align: middle;\n",
       "    }\n",
       "\n",
       "    .dataframe tbody tr th {\n",
       "        vertical-align: top;\n",
       "    }\n",
       "\n",
       "    .dataframe thead th {\n",
       "        text-align: right;\n",
       "    }\n",
       "</style>\n",
       "<table border=\"1\" class=\"dataframe\">\n",
       "  <thead>\n",
       "    <tr style=\"text-align: right;\">\n",
       "      <th></th>\n",
       "      <th>0</th>\n",
       "    </tr>\n",
       "  </thead>\n",
       "  <tbody>\n",
       "    <tr>\n",
       "      <th>0</th>\n",
       "      <td>b'{\"facts\":[\"Chocolate is poisonous to dogs be...</td>\n",
       "    </tr>\n",
       "    <tr>\n",
       "      <th>1</th>\n",
       "      <td>b' four to five months!\",\"Greyhounds are the f...</td>\n",
       "    </tr>\n",
       "    <tr>\n",
       "      <th>2</th>\n",
       "      <td>b'gs\\xe2\\x80\\x99 ears are extremely expressive...</td>\n",
       "    </tr>\n",
       "    <tr>\n",
       "      <th>3</th>\n",
       "      <td>b'ovements.\",\"This dog, Naki\\'o, lost all of h...</td>\n",
       "    </tr>\n",
       "    <tr>\n",
       "      <th>4</th>\n",
       "      <td>b' like normal.\"],\"success\":true}'</td>\n",
       "    </tr>\n",
       "  </tbody>\n",
       "</table>\n",
       "</div>"
      ],
      "text/plain": [
       "                                                   0\n",
       "0  b'{\"facts\":[\"Chocolate is poisonous to dogs be...\n",
       "1  b' four to five months!\",\"Greyhounds are the f...\n",
       "2  b'gs\\xe2\\x80\\x99 ears are extremely expressive...\n",
       "3  b'ovements.\",\"This dog, Naki\\'o, lost all of h...\n",
       "4                 b' like normal.\"],\"success\":true}'"
      ]
     },
     "execution_count": 12,
     "metadata": {},
     "output_type": "execute_result"
    }
   ],
   "source": [
    "df = pd.DataFrame(dog)\n",
    "df"
   ]
  },
  {
   "cell_type": "code",
   "execution_count": 13,
   "metadata": {},
   "outputs": [],
   "source": [
    "df.columns=['facts']"
   ]
  },
  {
   "cell_type": "code",
   "execution_count": 14,
   "metadata": {},
   "outputs": [
    {
     "data": {
      "text/html": [
       "<div>\n",
       "<style scoped>\n",
       "    .dataframe tbody tr th:only-of-type {\n",
       "        vertical-align: middle;\n",
       "    }\n",
       "\n",
       "    .dataframe tbody tr th {\n",
       "        vertical-align: top;\n",
       "    }\n",
       "\n",
       "    .dataframe thead th {\n",
       "        text-align: right;\n",
       "    }\n",
       "</style>\n",
       "<table border=\"1\" class=\"dataframe\">\n",
       "  <thead>\n",
       "    <tr style=\"text-align: right;\">\n",
       "      <th></th>\n",
       "      <th>facts</th>\n",
       "    </tr>\n",
       "  </thead>\n",
       "  <tbody>\n",
       "    <tr>\n",
       "      <th>0</th>\n",
       "      <td>b'{\"facts\":[\"Chocolate is poisonous to dogs be...</td>\n",
       "    </tr>\n",
       "    <tr>\n",
       "      <th>1</th>\n",
       "      <td>b' four to five months!\",\"Greyhounds are the f...</td>\n",
       "    </tr>\n",
       "    <tr>\n",
       "      <th>2</th>\n",
       "      <td>b'gs\\xe2\\x80\\x99 ears are extremely expressive...</td>\n",
       "    </tr>\n",
       "    <tr>\n",
       "      <th>3</th>\n",
       "      <td>b'ovements.\",\"This dog, Naki\\'o, lost all of h...</td>\n",
       "    </tr>\n",
       "    <tr>\n",
       "      <th>4</th>\n",
       "      <td>b' like normal.\"],\"success\":true}'</td>\n",
       "    </tr>\n",
       "  </tbody>\n",
       "</table>\n",
       "</div>"
      ],
      "text/plain": [
       "                                               facts\n",
       "0  b'{\"facts\":[\"Chocolate is poisonous to dogs be...\n",
       "1  b' four to five months!\",\"Greyhounds are the f...\n",
       "2  b'gs\\xe2\\x80\\x99 ears are extremely expressive...\n",
       "3  b'ovements.\",\"This dog, Naki\\'o, lost all of h...\n",
       "4                 b' like normal.\"],\"success\":true}'"
      ]
     },
     "execution_count": 14,
     "metadata": {},
     "output_type": "execute_result"
    }
   ],
   "source": [
    "df"
   ]
  },
  {
   "cell_type": "code",
   "execution_count": null,
   "metadata": {},
   "outputs": [],
   "source": []
  },
  {
   "cell_type": "code",
   "execution_count": null,
   "metadata": {},
   "outputs": [],
   "source": []
  },
  {
   "cell_type": "code",
   "execution_count": null,
   "metadata": {},
   "outputs": [],
   "source": []
  },
  {
   "cell_type": "code",
   "execution_count": null,
   "metadata": {},
   "outputs": [],
   "source": []
  },
  {
   "cell_type": "code",
   "execution_count": null,
   "metadata": {},
   "outputs": [],
   "source": []
  },
  {
   "cell_type": "code",
   "execution_count": null,
   "metadata": {},
   "outputs": [],
   "source": []
  },
  {
   "cell_type": "code",
   "execution_count": null,
   "metadata": {},
   "outputs": [],
   "source": []
  },
  {
   "cell_type": "code",
   "execution_count": null,
   "metadata": {},
   "outputs": [],
   "source": []
  },
  {
   "cell_type": "code",
   "execution_count": null,
   "metadata": {},
   "outputs": [],
   "source": []
  },
  {
   "cell_type": "code",
   "execution_count": null,
   "metadata": {},
   "outputs": [],
   "source": []
  },
  {
   "cell_type": "code",
   "execution_count": null,
   "metadata": {},
   "outputs": [],
   "source": []
  },
  {
   "cell_type": "code",
   "execution_count": null,
   "metadata": {},
   "outputs": [],
   "source": []
  },
  {
   "cell_type": "code",
   "execution_count": null,
   "metadata": {},
   "outputs": [],
   "source": []
  },
  {
   "cell_type": "code",
   "execution_count": null,
   "metadata": {},
   "outputs": [],
   "source": []
  },
  {
   "cell_type": "code",
   "execution_count": null,
   "metadata": {},
   "outputs": [],
   "source": []
  },
  {
   "cell_type": "code",
   "execution_count": null,
   "metadata": {},
   "outputs": [],
   "source": []
  },
  {
   "cell_type": "code",
   "execution_count": null,
   "metadata": {},
   "outputs": [],
   "source": []
  },
  {
   "cell_type": "code",
   "execution_count": null,
   "metadata": {},
   "outputs": [],
   "source": []
  },
  {
   "cell_type": "code",
   "execution_count": null,
   "metadata": {},
   "outputs": [],
   "source": []
  },
  {
   "cell_type": "code",
   "execution_count": null,
   "metadata": {},
   "outputs": [],
   "source": []
  }
 ],
 "metadata": {
  "kernelspec": {
   "display_name": "Python 3 (ipykernel)",
   "language": "python",
   "name": "python3"
  },
  "language_info": {
   "codemirror_mode": {
    "name": "ipython",
    "version": 3
   },
   "file_extension": ".py",
   "mimetype": "text/x-python",
   "name": "python",
   "nbconvert_exporter": "python",
   "pygments_lexer": "ipython3",
   "version": "3.11.5"
  }
 },
 "nbformat": 4,
 "nbformat_minor": 4
}
