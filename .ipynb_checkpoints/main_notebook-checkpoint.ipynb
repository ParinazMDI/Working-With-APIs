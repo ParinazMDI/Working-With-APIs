{
 "cells": [
  {
   "cell_type": "markdown",
   "metadata": {},
   "source": [
    "# Use this notebook for your 3 choices of APIs"
   ]
  },
  {
   "cell_type": "code",
   "execution_count": 1,
   "metadata": {},
   "outputs": [],
   "source": [
    "import requests\n",
    "import json\n",
    "import pandas as pd\n",
    "import numpy as np"
   ]
  },
  {
   "cell_type": "code",
   "execution_count": 2,
   "metadata": {},
   "outputs": [
    {
     "name": "stdout",
     "output_type": "stream",
     "text": [
      " Library : 200\n"
     ]
    }
   ],
   "source": [
    "Library = requests.get(\"https://openlibrary.org/works/OL15626917W.json\")\n",
    "print(\" Library :\",  Library.status_code)"
   ]
  },
  {
   "cell_type": "code",
   "execution_count": 3,
   "metadata": {},
   "outputs": [
    {
     "name": "stdout",
     "output_type": "stream",
     "text": [
      "1639\n"
     ]
    },
    {
     "data": {
      "text/plain": [
       "{'created': {'type': '/type/datetime', 'value': '2011-01-06T22:26:11.401548'},\n",
       " 'subjects': ['Environmental aspects',\n",
       "  'Climatic changes',\n",
       "  'Environmental engineering',\n",
       "  'Global warming',\n",
       "  'Engineering geology'],\n",
       " 'latest_revision': 4,\n",
       " 'description': {'type': '/type/text',\n",
       "  'value': 'Climate discussions often focus on potential impacts over a long period of time—several decades, a century even. But change could also happen much more suddenly. What if we had a real climate emergency—how could we cool the planet in a hurry? This question has led a group of scientists to pursue extreme solutions: huge contraptions that would suck CO2 from the air, machines that brighten clouds and deflect sunlight away from the earth, even artificial volcanoes that spray heat-reflecting particles into the atmosphere. This is the radical and controversial world of geoengineering. How to Cool the Planet, Jeff Goodell explores the scientific, political, and moral aspects of geoengineering. How are we going to change the temperature of whole regions if we can’t even predict next week’s weather? What about wars waged with climate control as the primary weapon? There are certainly risks, but Goodell persuades us that geoengineering may be our last best hope, a Plan B for the environment. And if it is, we need to know enough to get it right.'},\n",
       " 'key': '/works/OL15626917W',\n",
       " 'title': 'How to cool the planet',\n",
       " 'authors': [{'type': {'key': '/type/author_role'},\n",
       "   'author': {'key': '/authors/OL33421A'}}],\n",
       " 'type': {'key': '/type/work'},\n",
       " 'last_modified': {'type': '/type/datetime',\n",
       "  'value': '2020-02-14T07:14:50.671748'},\n",
       " 'revision': 4}"
      ]
     },
     "execution_count": 3,
     "metadata": {},
     "output_type": "execute_result"
    }
   ],
   "source": [
    "Library.content\n",
    "print(len(Library.text))\n",
    "results = Library.json()  # convert to list of dic\n",
    "results"
   ]
  },
  {
   "cell_type": "code",
   "execution_count": 4,
   "metadata": {},
   "outputs": [
    {
     "name": "stderr",
     "output_type": "stream",
     "text": [
      "C:\\Users\\Parinaz\\AppData\\Local\\Temp\\ipykernel_12592\\4048331713.py:2: FutureWarning: pandas.io.json.json_normalize is deprecated, use pandas.json_normalize instead.\n",
      "  spdata = json_normalize(results)\n"
     ]
    }
   ],
   "source": [
    "from pandas.io.json import json_normalize\n",
    "spdata = json_normalize(results)"
   ]
  },
  {
   "cell_type": "code",
   "execution_count": 5,
   "metadata": {},
   "outputs": [
    {
     "data": {
      "text/html": [
       "<div>\n",
       "<style scoped>\n",
       "    .dataframe tbody tr th:only-of-type {\n",
       "        vertical-align: middle;\n",
       "    }\n",
       "\n",
       "    .dataframe tbody tr th {\n",
       "        vertical-align: top;\n",
       "    }\n",
       "\n",
       "    .dataframe thead th {\n",
       "        text-align: right;\n",
       "    }\n",
       "</style>\n",
       "<table border=\"1\" class=\"dataframe\">\n",
       "  <thead>\n",
       "    <tr style=\"text-align: right;\">\n",
       "      <th></th>\n",
       "      <th>subjects</th>\n",
       "      <th>latest_revision</th>\n",
       "      <th>key</th>\n",
       "      <th>title</th>\n",
       "      <th>authors</th>\n",
       "      <th>revision</th>\n",
       "      <th>created.type</th>\n",
       "      <th>created.value</th>\n",
       "      <th>description.type</th>\n",
       "      <th>description.value</th>\n",
       "      <th>type.key</th>\n",
       "      <th>last_modified.type</th>\n",
       "      <th>last_modified.value</th>\n",
       "    </tr>\n",
       "  </thead>\n",
       "  <tbody>\n",
       "    <tr>\n",
       "      <th>0</th>\n",
       "      <td>[Environmental aspects, Climatic changes, Envi...</td>\n",
       "      <td>4</td>\n",
       "      <td>/works/OL15626917W</td>\n",
       "      <td>How to cool the planet</td>\n",
       "      <td>[{'type': {'key': '/type/author_role'}, 'autho...</td>\n",
       "      <td>4</td>\n",
       "      <td>/type/datetime</td>\n",
       "      <td>2011-01-06T22:26:11.401548</td>\n",
       "      <td>/type/text</td>\n",
       "      <td>Climate discussions often focus on potential i...</td>\n",
       "      <td>/type/work</td>\n",
       "      <td>/type/datetime</td>\n",
       "      <td>2020-02-14T07:14:50.671748</td>\n",
       "    </tr>\n",
       "  </tbody>\n",
       "</table>\n",
       "</div>"
      ],
      "text/plain": [
       "                                            subjects  latest_revision  \\\n",
       "0  [Environmental aspects, Climatic changes, Envi...                4   \n",
       "\n",
       "                  key                   title  \\\n",
       "0  /works/OL15626917W  How to cool the planet   \n",
       "\n",
       "                                             authors  revision  \\\n",
       "0  [{'type': {'key': '/type/author_role'}, 'autho...         4   \n",
       "\n",
       "     created.type               created.value description.type  \\\n",
       "0  /type/datetime  2011-01-06T22:26:11.401548       /type/text   \n",
       "\n",
       "                                   description.value    type.key  \\\n",
       "0  Climate discussions often focus on potential i...  /type/work   \n",
       "\n",
       "  last_modified.type         last_modified.value  \n",
       "0     /type/datetime  2020-02-14T07:14:50.671748  "
      ]
     },
     "execution_count": 5,
     "metadata": {},
     "output_type": "execute_result"
    }
   ],
   "source": [
    "spdata"
   ]
  },
  {
   "cell_type": "code",
   "execution_count": 6,
   "metadata": {},
   "outputs": [
    {
     "data": {
      "text/html": [
       "<div>\n",
       "<style scoped>\n",
       "    .dataframe tbody tr th:only-of-type {\n",
       "        vertical-align: middle;\n",
       "    }\n",
       "\n",
       "    .dataframe tbody tr th {\n",
       "        vertical-align: top;\n",
       "    }\n",
       "\n",
       "    .dataframe thead th {\n",
       "        text-align: right;\n",
       "    }\n",
       "</style>\n",
       "<table border=\"1\" class=\"dataframe\">\n",
       "  <thead>\n",
       "    <tr style=\"text-align: right;\">\n",
       "      <th></th>\n",
       "      <th>subjects</th>\n",
       "      <th>latest_revision</th>\n",
       "      <th>key</th>\n",
       "      <th>title</th>\n",
       "      <th>authors</th>\n",
       "      <th>revision</th>\n",
       "      <th>created.type</th>\n",
       "      <th>created.value</th>\n",
       "      <th>description.type</th>\n",
       "      <th>description.value</th>\n",
       "      <th>type.key</th>\n",
       "      <th>last_modified.type</th>\n",
       "      <th>last_modified.value</th>\n",
       "    </tr>\n",
       "  </thead>\n",
       "  <tbody>\n",
       "    <tr>\n",
       "      <th>0</th>\n",
       "      <td>[Environmental aspects, Climatic changes, Envi...</td>\n",
       "      <td>4</td>\n",
       "      <td>/works/OL15626917W</td>\n",
       "      <td>How to cool the planet</td>\n",
       "      <td>[{'type': {'key': '/type/author_role'}, 'autho...</td>\n",
       "      <td>4</td>\n",
       "      <td>/type/datetime</td>\n",
       "      <td>2011-01-06T22:26:11.401548</td>\n",
       "      <td>/type/text</td>\n",
       "      <td>Climate discussions often focus on potential i...</td>\n",
       "      <td>/type/work</td>\n",
       "      <td>/type/datetime</td>\n",
       "      <td>2020-02-14T07:14:50.671748</td>\n",
       "    </tr>\n",
       "  </tbody>\n",
       "</table>\n",
       "</div>"
      ],
      "text/plain": [
       "                                            subjects  latest_revision  \\\n",
       "0  [Environmental aspects, Climatic changes, Envi...                4   \n",
       "\n",
       "                  key                   title  \\\n",
       "0  /works/OL15626917W  How to cool the planet   \n",
       "\n",
       "                                             authors  revision  \\\n",
       "0  [{'type': {'key': '/type/author_role'}, 'autho...         4   \n",
       "\n",
       "     created.type               created.value description.type  \\\n",
       "0  /type/datetime  2011-01-06T22:26:11.401548       /type/text   \n",
       "\n",
       "                                   description.value    type.key  \\\n",
       "0  Climate discussions often focus on potential i...  /type/work   \n",
       "\n",
       "  last_modified.type         last_modified.value  \n",
       "0     /type/datetime  2020-02-14T07:14:50.671748  "
      ]
     },
     "execution_count": 6,
     "metadata": {},
     "output_type": "execute_result"
    }
   ],
   "source": [
    "df = pd.DataFrame(spdata)\n",
    "df"
   ]
  },
  {
   "cell_type": "code",
   "execution_count": 7,
   "metadata": {},
   "outputs": [
    {
     "data": {
      "text/plain": [
       "(1, 13)"
      ]
     },
     "execution_count": 7,
     "metadata": {},
     "output_type": "execute_result"
    }
   ],
   "source": [
    "spdata.shape"
   ]
  },
  {
   "cell_type": "code",
   "execution_count": null,
   "metadata": {},
   "outputs": [],
   "source": [
    "# recipes= requests.get(\"https://api.spoonacular.com/recipes/complexSearch\")\n",
    "# print(\" recipes :\", recipes.status_code)"
   ]
  },
  {
   "cell_type": "code",
   "execution_count": null,
   "metadata": {},
   "outputs": [],
   "source": [
    "# 24fc7cac-9b26-4918-a161-7aebd00f429b"
   ]
  },
  {
   "cell_type": "code",
   "execution_count": null,
   "metadata": {},
   "outputs": [],
   "source": [
    "#apikey=24fc7cac-9b26-4918-a161-7aebd00f429b#"
   ]
  },
  {
   "cell_type": "code",
   "execution_count": null,
   "metadata": {},
   "outputs": [],
   "source": [
    "#apikey = getpass.getpass()#"
   ]
  },
  {
   "cell_type": "code",
   "execution_count": null,
   "metadata": {},
   "outputs": [],
   "source": [
    "# bitcoin_mainnet = requests.get(f\"https://btc.api.watchdata.io/node/jsonrpc?api_key={}\")"
   ]
  },
  {
   "cell_type": "code",
   "execution_count": null,
   "metadata": {},
   "outputs": [],
   "source": [
    "# results = bitcoin_mainnet.json()  \n",
    "# results\n"
   ]
  },
  {
   "cell_type": "code",
   "execution_count": 15,
   "metadata": {},
   "outputs": [],
   "source": [
    "import getpass\n"
   ]
  },
  {
   "cell_type": "code",
   "execution_count": null,
   "metadata": {},
   "outputs": [],
   "source": [
    "apikey = getpass.getpass()\n",
    "#9919a514-b1a4-4ee0-8515-d5dc00e3e509"
   ]
  },
  {
   "cell_type": "code",
   "execution_count": null,
   "metadata": {},
   "outputs": [],
   "source": [
    "holiday = requests.get(f\"https://holidayapi.com/v1/holidays?pretty&key={apikey}&country=NL&year=2022\")"
   ]
  },
  {
   "cell_type": "code",
   "execution_count": null,
   "metadata": {},
   "outputs": [],
   "source": [
    "results = holiday.json()\n",
    "results"
   ]
  },
  {
   "cell_type": "code",
   "execution_count": null,
   "metadata": {},
   "outputs": [],
   "source": [
    "data = json_normalize(results)\n",
    "df = pd.DataFrame(data)\n",
    "df"
   ]
  },
  {
   "cell_type": "code",
   "execution_count": null,
   "metadata": {},
   "outputs": [],
   "source": [
    "df[\"holidays\"]"
   ]
  },
  {
   "cell_type": "code",
   "execution_count": null,
   "metadata": {},
   "outputs": [],
   "source": [
    "data = pd.DataFrame.from_dict(df[\"holidays\"], orient=\"index\").reset_index()\n",
    "data.columns = [\"holidays\", \"date\"]\n",
    "data"
   ]
  },
  {
   "cell_type": "code",
   "execution_count": null,
   "metadata": {},
   "outputs": [],
   "source": [
    "# import pandas as pd\n",
    "# import requests\n",
    "# import getpass\n",
    "# apikey = getpass.getpass()\n",
    "# res = requests.get('')\n",
    "# print(\" res :\",  res.status_code)\n",
    "# results = res.json()\n",
    "# spdata = json_normalize(results)\n",
    "# df = pd.DataFrame(spdata)\n",
    "# df"
   ]
  },
  {
   "cell_type": "code",
   "execution_count": null,
   "metadata": {},
   "outputs": [],
   "source": []
  },
  {
   "cell_type": "code",
   "execution_count": null,
   "metadata": {},
   "outputs": [],
   "source": []
  },
  {
   "cell_type": "code",
   "execution_count": 10,
   "metadata": {},
   "outputs": [
    {
     "name": "stdout",
     "output_type": "stream",
     "text": [
      " dog : 200\n"
     ]
    }
   ],
   "source": [
    "dog=requests.get('http://dog-api.kinduff.com/api/facts?number=5')\n",
    "print(\" dog :\",  dog.status_code)"
   ]
  },
  {
   "cell_type": "code",
   "execution_count": 11,
   "metadata": {},
   "outputs": [
    {
     "name": "stderr",
     "output_type": "stream",
     "text": [
      "C:\\Users\\Parinaz\\AppData\\Local\\Temp\\ipykernel_12592\\140776659.py:2: FutureWarning: pandas.io.json.json_normalize is deprecated, use pandas.json_normalize instead.\n",
      "  data=spdata = json_normalize(results)\n"
     ]
    }
   ],
   "source": [
    "results = dog.json()\n",
    "data=spdata = json_normalize(results)"
   ]
  },
  {
   "cell_type": "code",
   "execution_count": 12,
   "metadata": {},
   "outputs": [
    {
     "data": {
      "text/html": [
       "<div>\n",
       "<style scoped>\n",
       "    .dataframe tbody tr th:only-of-type {\n",
       "        vertical-align: middle;\n",
       "    }\n",
       "\n",
       "    .dataframe tbody tr th {\n",
       "        vertical-align: top;\n",
       "    }\n",
       "\n",
       "    .dataframe thead th {\n",
       "        text-align: right;\n",
       "    }\n",
       "</style>\n",
       "<table border=\"1\" class=\"dataframe\">\n",
       "  <thead>\n",
       "    <tr style=\"text-align: right;\">\n",
       "      <th></th>\n",
       "      <th>0</th>\n",
       "    </tr>\n",
       "  </thead>\n",
       "  <tbody>\n",
       "    <tr>\n",
       "      <th>0</th>\n",
       "      <td>b'{\"facts\":[\"Chocolate is poisonous to dogs be...</td>\n",
       "    </tr>\n",
       "    <tr>\n",
       "      <th>1</th>\n",
       "      <td>b' four to five months!\",\"Greyhounds are the f...</td>\n",
       "    </tr>\n",
       "    <tr>\n",
       "      <th>2</th>\n",
       "      <td>b'gs\\xe2\\x80\\x99 ears are extremely expressive...</td>\n",
       "    </tr>\n",
       "    <tr>\n",
       "      <th>3</th>\n",
       "      <td>b'ovements.\",\"This dog, Naki\\'o, lost all of h...</td>\n",
       "    </tr>\n",
       "    <tr>\n",
       "      <th>4</th>\n",
       "      <td>b' like normal.\"],\"success\":true}'</td>\n",
       "    </tr>\n",
       "  </tbody>\n",
       "</table>\n",
       "</div>"
      ],
      "text/plain": [
       "                                                   0\n",
       "0  b'{\"facts\":[\"Chocolate is poisonous to dogs be...\n",
       "1  b' four to five months!\",\"Greyhounds are the f...\n",
       "2  b'gs\\xe2\\x80\\x99 ears are extremely expressive...\n",
       "3  b'ovements.\",\"This dog, Naki\\'o, lost all of h...\n",
       "4                 b' like normal.\"],\"success\":true}'"
      ]
     },
     "execution_count": 12,
     "metadata": {},
     "output_type": "execute_result"
    }
   ],
   "source": [
    "df = pd.DataFrame(dog)\n",
    "df"
   ]
  },
  {
   "cell_type": "code",
   "execution_count": 13,
   "metadata": {},
   "outputs": [],
   "source": [
    "df.columns=['facts']"
   ]
  },
  {
   "cell_type": "code",
   "execution_count": 14,
   "metadata": {},
   "outputs": [
    {
     "data": {
      "text/html": [
       "<div>\n",
       "<style scoped>\n",
       "    .dataframe tbody tr th:only-of-type {\n",
       "        vertical-align: middle;\n",
       "    }\n",
       "\n",
       "    .dataframe tbody tr th {\n",
       "        vertical-align: top;\n",
       "    }\n",
       "\n",
       "    .dataframe thead th {\n",
       "        text-align: right;\n",
       "    }\n",
       "</style>\n",
       "<table border=\"1\" class=\"dataframe\">\n",
       "  <thead>\n",
       "    <tr style=\"text-align: right;\">\n",
       "      <th></th>\n",
       "      <th>facts</th>\n",
       "    </tr>\n",
       "  </thead>\n",
       "  <tbody>\n",
       "    <tr>\n",
       "      <th>0</th>\n",
       "      <td>b'{\"facts\":[\"Chocolate is poisonous to dogs be...</td>\n",
       "    </tr>\n",
       "    <tr>\n",
       "      <th>1</th>\n",
       "      <td>b' four to five months!\",\"Greyhounds are the f...</td>\n",
       "    </tr>\n",
       "    <tr>\n",
       "      <th>2</th>\n",
       "      <td>b'gs\\xe2\\x80\\x99 ears are extremely expressive...</td>\n",
       "    </tr>\n",
       "    <tr>\n",
       "      <th>3</th>\n",
       "      <td>b'ovements.\",\"This dog, Naki\\'o, lost all of h...</td>\n",
       "    </tr>\n",
       "    <tr>\n",
       "      <th>4</th>\n",
       "      <td>b' like normal.\"],\"success\":true}'</td>\n",
       "    </tr>\n",
       "  </tbody>\n",
       "</table>\n",
       "</div>"
      ],
      "text/plain": [
       "                                               facts\n",
       "0  b'{\"facts\":[\"Chocolate is poisonous to dogs be...\n",
       "1  b' four to five months!\",\"Greyhounds are the f...\n",
       "2  b'gs\\xe2\\x80\\x99 ears are extremely expressive...\n",
       "3  b'ovements.\",\"This dog, Naki\\'o, lost all of h...\n",
       "4                 b' like normal.\"],\"success\":true}'"
      ]
     },
     "execution_count": 14,
     "metadata": {},
     "output_type": "execute_result"
    }
   ],
   "source": [
    "df"
   ]
  },
  {
   "cell_type": "code",
   "execution_count": null,
   "metadata": {},
   "outputs": [],
   "source": []
  },
  {
   "cell_type": "code",
   "execution_count": null,
   "metadata": {},
   "outputs": [],
   "source": []
  },
  {
   "cell_type": "code",
   "execution_count": null,
   "metadata": {},
   "outputs": [],
   "source": []
  },
  {
   "cell_type": "code",
   "execution_count": null,
   "metadata": {},
   "outputs": [],
   "source": []
  },
  {
   "cell_type": "code",
   "execution_count": null,
   "metadata": {},
   "outputs": [],
   "source": []
  },
  {
   "cell_type": "code",
   "execution_count": null,
   "metadata": {},
   "outputs": [],
   "source": []
  },
  {
   "cell_type": "code",
   "execution_count": null,
   "metadata": {},
   "outputs": [],
   "source": []
  },
  {
   "cell_type": "code",
   "execution_count": null,
   "metadata": {},
   "outputs": [],
   "source": []
  },
  {
   "cell_type": "code",
   "execution_count": null,
   "metadata": {},
   "outputs": [],
   "source": []
  },
  {
   "cell_type": "code",
   "execution_count": null,
   "metadata": {},
   "outputs": [],
   "source": []
  },
  {
   "cell_type": "code",
   "execution_count": null,
   "metadata": {},
   "outputs": [],
   "source": []
  },
  {
   "cell_type": "code",
   "execution_count": null,
   "metadata": {},
   "outputs": [],
   "source": []
  },
  {
   "cell_type": "code",
   "execution_count": null,
   "metadata": {},
   "outputs": [],
   "source": []
  },
  {
   "cell_type": "code",
   "execution_count": null,
   "metadata": {},
   "outputs": [],
   "source": []
  },
  {
   "cell_type": "code",
   "execution_count": null,
   "metadata": {},
   "outputs": [],
   "source": []
  },
  {
   "cell_type": "code",
   "execution_count": null,
   "metadata": {},
   "outputs": [],
   "source": []
  },
  {
   "cell_type": "code",
   "execution_count": null,
   "metadata": {},
   "outputs": [],
   "source": []
  },
  {
   "cell_type": "code",
   "execution_count": null,
   "metadata": {},
   "outputs": [],
   "source": []
  },
  {
   "cell_type": "code",
   "execution_count": null,
   "metadata": {},
   "outputs": [],
   "source": []
  },
  {
   "cell_type": "code",
   "execution_count": null,
   "metadata": {},
   "outputs": [],
   "source": []
  }
 ],
 "metadata": {
  "kernelspec": {
   "display_name": "Python 3 (ipykernel)",
   "language": "python",
   "name": "python3"
  },
  "language_info": {
   "codemirror_mode": {
    "name": "ipython",
    "version": 3
   },
   "file_extension": ".py",
   "mimetype": "text/x-python",
   "name": "python",
   "nbconvert_exporter": "python",
   "pygments_lexer": "ipython3",
   "version": "3.11.5"
  }
 },
 "nbformat": 4,
 "nbformat_minor": 4
}
